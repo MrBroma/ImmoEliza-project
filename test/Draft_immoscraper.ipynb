{
 "cells": [
  {
   "cell_type": "markdown",
   "id": "ef99880e",
   "metadata": {},
   "source": [
    "### Import of the libraries"
   ]
  },
  {
   "cell_type": "markdown",
   "id": "f5b52b87",
   "metadata": {},
   "source": [
    "### Trying to use selectolax to have information in javascript/text"
   ]
  },
  {
   "cell_type": "code",
   "execution_count": 1,
   "id": "d939cd57",
   "metadata": {},
   "outputs": [],
   "source": [
    "import requests\n",
    "from selectolax.parser import HTMLParser\n",
    "import chompjs\n",
    "import cloudscraper\n",
    "import json\n"
   ]
  },
  {
   "cell_type": "code",
   "execution_count": 3,
   "id": "bad1def5",
   "metadata": {},
   "outputs": [
    {
     "name": "stdout",
     "output_type": "stream",
     "text": [
      "The id is 11472054\n",
      "The locality is Erpe - Mere\n",
      "The type of the property is HOUSE\n",
      "The subtype of the property is HOUSE\n",
      "The price is 389000 euros\n",
      "The type of sale is residential_sale\n",
      "The number of rooms is 4\n",
      "The number of bathroom is 2\n",
      "The living area is 182 m²\n",
      "The kitchen is HYPER_EQUIPPED\n",
      "Fire place is None\n",
      "The terrace is True and the surface is 20 m²\n",
      "The garden is True and it is 200 m²\n",
      "The plot surface is 461m²\n",
      "The number of facade are 4\n",
      "The value of swimming pool is False\n",
      "The building is GOOD\n"
     ]
    }
   ],
   "source": [
    "# Initialize the scraper\n",
    "scraper = cloudscraper.create_scraper()\n",
    "\n",
    "url = \"https://www.immoweb.be/en/classified/house/for-sale/erpe-mere/9420/11472054\"\n",
    "\n",
    "resp = scraper.get(f\"{url}\")\n",
    "html = HTMLParser(resp.text)\n",
    "\n",
    "html_data = html.css(\"script[type='text/javascript']\")\n",
    "\n",
    "for script in html_data:\n",
    "    data_dict = chompjs.parse_js_object(script.text())\n",
    "    with open('data_dict.json', 'w') as json_file:\n",
    "        json.dump(data_dict, json_file, indent=4)\n",
    "    break\n",
    "\n",
    "\n",
    "# print(f\"The id is {data_dict['id']}\")\n",
    "\n",
    "# print(f\"The locality is {data_dict['property']['location']['locality']}\")\n",
    "\n",
    "# print(f\"The type of the property is {data_dict['property']['type']}\")\n",
    "\n",
    "# print(f\"The subtype of the property is {data_dict['property']['subtype']}\")\n",
    "\n",
    "# print(f\"The price is {data_dict['transaction']['sale']['price']} euros\")\n",
    "\n",
    "# print(f\"The type of sale is {data_dict['price']['type']}\")\n",
    "\n",
    "# print(f\"The number of rooms is {data_dict['property']['bedroomCount']}\")\n",
    "\n",
    "# print(f\"The number of bathroom is {data_dict['property']['bathroomCount']}\")\n",
    "\n",
    "# print(f\"The living area is {data_dict['property']['netHabitableSurface']} m²\")\n",
    "\n",
    "# print(f\"The kitchen is {data_dict['property']['kitchen']['type']}\")\n",
    "if (data_dict.get('property') and data_dict['property'].get('kitchen') and 'type' in data_dict['property']['kitchen']):\n",
    "    print(f\"The kitchen is {data_dict['property']['kitchen']['type']}\")\n",
    "else:\n",
    "    print('None there is no kitchen type')\n",
    "\n",
    "# print(f\"Fire place is {data_dict['property']['fireplaceCount']}\")\n",
    "\n",
    "# print(f\"The terrace is {data_dict['property']['hasTerrace']} and the surface is {data_dict['property']['terraceSurface']} m²\")\n",
    "\n",
    "# print(f\"The garden is {data_dict['property']['hasGarden']} and it is {data_dict['property']['gardenSurface']} m²\")\n",
    "\n",
    "# print(f\"The plot surface is {data_dict['property']['land']['surface']}m²\")\n",
    "\n",
    "# print(f\"The number of facade are {data_dict['property']['building']['facadeCount']}\")\n",
    "\n",
    "# print(f\"The value of swimming pool is {data_dict['property']['hasSwimmingPool']}\")\n",
    "\n",
    "# print(f\"The building is {data_dict['property']['building']['condition']}\")\n"
   ]
  }
 ],
 "metadata": {
  "kernelspec": {
   "display_name": "immo_env",
   "language": "python",
   "name": "python3"
  },
  "language_info": {
   "codemirror_mode": {
    "name": "ipython",
    "version": 3
   },
   "file_extension": ".py",
   "mimetype": "text/x-python",
   "name": "python",
   "nbconvert_exporter": "python",
   "pygments_lexer": "ipython3",
   "version": "3.12.4"
  }
 },
 "nbformat": 4,
 "nbformat_minor": 5
}
